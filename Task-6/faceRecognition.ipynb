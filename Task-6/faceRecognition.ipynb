{
 "cells": [
  {
   "cell_type": "code",
   "execution_count": null,
   "metadata": {},
   "outputs": [],
   "source": [
    "import cv2\n",
    "import numpy as np\n",
    "import smtplib, ssl\n",
    "import pywhatkit\n",
    "import boto3\n",
    "import time"
   ]
  },
  {
   "cell_type": "markdown",
   "metadata": {},
   "source": [
    "## Functions to send Email and WhatsApp message if Face is recognized"
   ]
  },
  {
   "cell_type": "code",
   "execution_count": null,
   "metadata": {},
   "outputs": [],
   "source": [
    "def sendMail(sender_email, password, receiver_email, message=\"Hello from Python\"):\n",
    "    port = 465  # For SSL\n",
    "    \n",
    "    # Setting smtp server\n",
    "    smtp_server = \"smtp.gmail.com\"\n",
    "    \n",
    "    # Create a secure SSL context\n",
    "    context = ssl.create_default_context()\n",
    "\n",
    "    with smtplib.SMTP_SSL(smtp_server, port, context=context) as server:\n",
    "        server.login(sender_email, password)\n",
    "        server.sendmail(sender_email, receiver_email, message)"
   ]
  },
  {
   "cell_type": "code",
   "execution_count": null,
   "metadata": {},
   "outputs": [],
   "source": [
    "def sendWhatsMessage(phoneno, message=\"Hello from Python\"):\n",
    "    pywhatkit.sendwhatmsg_instantly(phoneno, message)"
   ]
  },
  {
   "cell_type": "markdown",
   "metadata": {},
   "source": [
    "## Functions to Manage AWS Resources"
   ]
  },
  {
   "cell_type": "code",
   "execution_count": null,
   "metadata": {},
   "outputs": [],
   "source": [
    "# You can use this function to create a key pair if it does not exist already\n",
    "\n",
    "# def create_key_pair():\n",
    "#     ec2 = boto3.resource('ec2')\n",
    "#     key_pair = ec2.create_key_pair(KeyName=\"testKey\")\n",
    "#     with open('./testKey.pem', 'w') as file:\n",
    "#         file.write(key_pair.key_material)  \n",
    "#     print(key_pair.key_fingerprint)\n",
    "\n",
    "# Function to create an EC2 instance and attach an EBS volume of size 5GB to it\n",
    "def createEC2Instance():\n",
    "    image = 'ami-06a0b4e3b7eb7a300'\n",
    "    instType = 't2.micro'\n",
    "    secGroup = 'default'\n",
    "    keyPair = 'testKey'\n",
    "    \n",
    "    ec2 = boto3.resource('ec2')\n",
    "    print(\"Creating EC2 Instance...\")\n",
    "    instance = ec2.create_instances(\n",
    "    ImageId=image, InstanceType=instType, SecurityGroups=[secGroup],\n",
    "    MinCount=1, MaxCount=1, KeyName=keyPair)\n",
    "    \n",
    "    instId = instance[0].id\n",
    "    ec2.create_tags(\n",
    "        Resources=[instId],\n",
    "        Tags=[\n",
    "            {\n",
    "                'Key': 'Name',\n",
    "                'Value': 'testInstance'\n",
    "            }\n",
    "        ]\n",
    "    )\n",
    "    \n",
    "    client = boto3.client('ec2')\n",
    "    az = client.describe_instances(InstanceIds=[instId])['Reservations'][0]['Instances'][0]['Placement']['AvailabilityZone']\n",
    "    \n",
    "    # Waiting for instance to start running before attaching volume\n",
    "    time.sleep(30)\n",
    "    print(\"EC2 instance with id: '{}' created.\".format(instId))\n",
    "    attachEBSVolume(instId, az)\n",
    "    inst = client.describe_instances(InstanceIds=[instId])\n",
    "    return inst"
   ]
  },
  {
   "cell_type": "code",
   "execution_count": null,
   "metadata": {},
   "outputs": [],
   "source": [
    "def attachEBSVolume(instId, avail_zone='ap-south-1a'):\n",
    "    ec2 = boto3.resource('ec2')\n",
    "    print(\"Creating 5GB EBS Volume...\")\n",
    "    vol = ec2.create_volume(\n",
    "        AvailabilityZone = avail_zone,\n",
    "        Size = 5,\n",
    "        VolumeType = 'gp2'\n",
    "    )\n",
    "    print(\"EBS Volume created.\")\n",
    "    print(\"Attaching volume to instance: '{}'...\".format(instId))\n",
    "    time.sleep(10)\n",
    "    \n",
    "    res = vol.attach_to_instance(\n",
    "        Device='/dev/sdh',\n",
    "        InstanceId=instId\n",
    "    )\n",
    "    print(\"EBS Volume attached at '/dev/sdh'.\")"
   ]
  },
  {
   "cell_type": "markdown",
   "metadata": {},
   "source": [
    "## Function to perform the desired actions if Face is recognized"
   ]
  },
  {
   "cell_type": "code",
   "execution_count": null,
   "metadata": {},
   "outputs": [],
   "source": [
    "def performActions():\n",
    "    # Fetching from_email, password, to_email, phone_number\n",
    "    creds = open(\"password.txt\", \"r\")\n",
    "    sender_email = creds.readline()\n",
    "    password = creds.readline()\n",
    "    receiver_email = creds.readline()\n",
    "    phoneno = creds.readline()\n",
    "    creds.close()\n",
    "\n",
    "    message = \"\"\"Subject: Face ID Verified\n",
    "\n",
    "    Greetings Gaius Reji\n",
    "    \"\"\"\n",
    "\n",
    "    # Calling function to send Email\n",
    "    print(\"Sending Email...\")\n",
    "    sendMail(sender_email, password, receiver_email, message)\n",
    "    print(\"Email sent to address {}.\".format(receiver_email))\n",
    "\n",
    "    # Calling function to send WhatsApp Message\n",
    "    print(\"Sending WhatsApp Message...\")\n",
    "    sendWhatsMessage(phoneno, message)\n",
    "    print(\"WhatsApp message sent.\")\n",
    "    \n",
    "    # Calling function to create EC2 instance and attach a 5GB EBS volume to it\n",
    "    instance = createEC2Instance()\n",
    "    return instance"
   ]
  },
  {
   "cell_type": "markdown",
   "metadata": {},
   "source": [
    "# FACE RECOGNITION\n",
    "\n",
    "The following cells contain code for creating the sameple dataset and training our face recognition model with that dataset.\n",
    "Finally, based on accuracy the above created function are called."
   ]
  },
  {
   "cell_type": "markdown",
   "metadata": {},
   "source": [
    "## Face Extractor"
   ]
  },
  {
   "cell_type": "code",
   "execution_count": null,
   "metadata": {},
   "outputs": [],
   "source": [
    "# Load HAAR Cascade face classifier\n",
    "face_detector = cv2.CascadeClassifier('haarcascade_frontalface_default.xml')\n",
    "\n",
    "# Setting file path for storing and retrieving data\n",
    "path = './faces/user/'"
   ]
  },
  {
   "cell_type": "code",
   "execution_count": null,
   "metadata": {},
   "outputs": [],
   "source": [
    "# Function detects faces and returns cropped image | Returns None if no face detected\n",
    "def face_extractor(frame):\n",
    "    gray = cv2.cvtColor(frame, cv2.COLOR_BGR2GRAY)\n",
    "    face = face_detector.detectMultiScale(gray, 1.3, 5)\n",
    "    \n",
    "    if len(face) == 0:\n",
    "        return None\n",
    "    \n",
    "    # Crop detected faces\n",
    "    (x, y, w, h) = face[0]\n",
    "    cropped_face = frame[y:y+h, x:x+w]\n",
    "    return cropped_face"
   ]
  },
  {
   "cell_type": "markdown",
   "metadata": {},
   "source": [
    "## Sample Collection"
   ]
  },
  {
   "cell_type": "code",
   "execution_count": null,
   "metadata": {},
   "outputs": [],
   "source": [
    "cap = cv2.VideoCapture(0)\n",
    "count = 500    # size of sample (number of images needed)\n",
    "\n",
    "while True:\n",
    "    ret, frame = cap.read()\n",
    "    face = face_extractor(frame)\n",
    "    if face is not None:\n",
    "        count -= 1\n",
    "        face = cv2.resize(face, (200, 200))\n",
    "        face = cv2.cvtColor(face, cv2.COLOR_BGR2GRAY)\n",
    "        \n",
    "        # Save file in the specified directory with a unique name\n",
    "        file_path = path + str(count) + '.jpg'\n",
    "        cv2.imwrite(file_path, face)\n",
    "        \n",
    "        cv2.putText(face, str(count), (10, 190), cv2.FONT_HERSHEY_SIMPLEX, 0.5, [255,0,0], 1)\n",
    "        cv2.imshow('samples', face)\n",
    "        \n",
    "    else:\n",
    "        print(\"Face not found\")\n",
    "        pass\n",
    "    \n",
    "    if cv2.waitKey(10) == 13 or count <= 0:\n",
    "        break\n",
    "        \n",
    "cv2.destroyAllWindows()\n",
    "print(\"Sample Collection Complete\")\n",
    "cap.release()"
   ]
  },
  {
   "cell_type": "markdown",
   "metadata": {},
   "source": [
    "## Training the Model"
   ]
  },
  {
   "cell_type": "code",
   "execution_count": null,
   "metadata": {},
   "outputs": [],
   "source": [
    "from os import listdir\n",
    "from os.path import isfile, join"
   ]
  },
  {
   "cell_type": "code",
   "execution_count": null,
   "metadata": {},
   "outputs": [],
   "source": [
    "# Fetching the paths of sample data for training\n",
    "data_path = path\n",
    "file_paths = [f for f in listdir(data_path) if isfile(join(data_path, f))]\n",
    "\n",
    "# Lists for training data and labels\n",
    "training_data, labels = [], []\n",
    "\n",
    "# Open images from the file paths and create numpy array for training data\n",
    "for i, f_path in enumerate(file_paths):\n",
    "    image_path = data_path + f_path\n",
    "    images = cv2.imread(image_path, cv2.IMREAD_GRAYSCALE)\n",
    "    training_data.append(np.asarray(images, dtype=np.uint8))\n",
    "    labels.append(i)\n",
    "    \n",
    "# Create numpy array for both training data and labels\n",
    "labels = np.asarray(labels, dtype=np.int32)\n",
    "training_data = np.asarray(training_data)"
   ]
  },
  {
   "cell_type": "code",
   "execution_count": null,
   "metadata": {},
   "outputs": [],
   "source": [
    "# Initialize the face recognizer model\n",
    "my_model = cv2.face_LBPHFaceRecognizer.create()\n",
    "\n",
    "# Training the model\n",
    "my_model.train(training_data, labels)\n",
    "print(\"Model Trained\")"
   ]
  },
  {
   "cell_type": "markdown",
   "metadata": {},
   "source": [
    "## Run Facial Recognition"
   ]
  },
  {
   "cell_type": "code",
   "execution_count": null,
   "metadata": {},
   "outputs": [],
   "source": [
    "def detect_face(frame, size=0.5):\n",
    "    \n",
    "    # Convert frame to grayscale\n",
    "    gray = cv2.cvtColor(frame, cv2.COLOR_BGR2GRAY)\n",
    "    face = face_detector.detectMultiScale(gray, 1.3, 5)\n",
    "    \n",
    "    if len(face) == 0:\n",
    "        return None\n",
    "    \n",
    "    (x, y, w, h) = face[0]\n",
    "    cv2.rectangle(frame, (x, y), (x+w, y+h), [178, 255, 25], 2)\n",
    "    roi = frame[y:y+h, x:x+w]\n",
    "    roi = cv2.resize(roi, (200, 200))\n",
    "    return roi"
   ]
  },
  {
   "cell_type": "code",
   "execution_count": null,
   "metadata": {},
   "outputs": [],
   "source": [
    "cap = cv2.VideoCapture(0)\n",
    "correction = 50 # Number of times the user's face must bre read correctly before sending the mail\n",
    "recog = False\n",
    "while True:\n",
    "    ret, frame = cap.read()\n",
    "    face = detect_face(frame)\n",
    "    \n",
    "    try:\n",
    "        grayface = cv2.cvtColor(face, cv2.COLOR_BGR2GRAY)\n",
    "        \n",
    "        # Passing face to the model for prediction\n",
    "        result = my_model.predict(grayface)\n",
    "        \n",
    "        if result[1] < 500:\n",
    "            confidence = int(100 * (1 - result[1]/400))\n",
    "            display_str = 'Confidence score : ' + str(confidence) + '%'\n",
    "            \n",
    "        cv2.putText(frame, display_str, (230, 450), cv2.FONT_HERSHEY_SIMPLEX, 0.5, [255,120,150], 1)\n",
    "        \n",
    "        if confidence > 90:\n",
    "            cv2.putText(frame, \"Hello User\", (276, 430), cv2.FONT_HERSHEY_SIMPLEX, 0.5, [178, 255, 25], 1)\n",
    "            c += 1\n",
    "            if c >= correction:\n",
    "                recog = True\n",
    "                break\n",
    "        else:\n",
    "            cv2.putText(frame, \"Face not recognized\", (240, 430), cv2.FONT_HERSHEY_SIMPLEX, 0.5, [80,19,247], 1)\n",
    "            c = 0\n",
    "        \n",
    "    except:\n",
    "        cv2.putText(frame, \"Face not found\", (260, 430), cv2.FONT_HERSHEY_SIMPLEX, 0.5, [255,255,255], 1)\n",
    "        cv2.putText(frame, \"Looking for a face\", (250, 450), cv2.FONT_HERSHEY_SIMPLEX, 0.5, [255,255,255], 1)\n",
    "        c = 0\n",
    "    cv2.imshow('Face Recognition', frame)\n",
    "        \n",
    "    if cv2.waitKey(10) == 13:\n",
    "        break\n",
    "\n",
    "cv2.destroyAllWindows()\n",
    "cap.release()\n",
    "\n",
    "if recog:\n",
    "    res = performActions()"
   ]
  }
 ],
 "metadata": {
  "kernelspec": {
   "display_name": "Python 3",
   "language": "python",
   "name": "python3"
  },
  "language_info": {
   "codemirror_mode": {
    "name": "ipython",
    "version": 3
   },
   "file_extension": ".py",
   "mimetype": "text/x-python",
   "name": "python",
   "nbconvert_exporter": "python",
   "pygments_lexer": "ipython3",
   "version": "3.8.8"
  }
 },
 "nbformat": 4,
 "nbformat_minor": 4
}
