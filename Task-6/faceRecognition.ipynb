{
 "cells": [
  {
   "cell_type": "code",
   "execution_count": null,
   "metadata": {},
   "outputs": [],
   "source": [
    "import cv2\n",
    "import numpy as np"
   ]
  },
  {
   "cell_type": "code",
   "execution_count": null,
   "metadata": {},
   "outputs": [],
   "source": [
    "# Load HAAR Cascade face classifier\n",
    "face_detector = cv2.CascadeClassifier('haarcascade_frontalface_default.xml')\n",
    "\n",
    "# Setting file path for storing and retrieving data\n",
    "path = './faces/user/'"
   ]
  },
  {
   "cell_type": "markdown",
   "metadata": {},
   "source": [
    "## Face Extractor"
   ]
  },
  {
   "cell_type": "code",
   "execution_count": null,
   "metadata": {},
   "outputs": [],
   "source": [
    "# Function detects faces and returns cropped image | Returns None if no face detected\n",
    "def face_extractor(frame):\n",
    "    gray = cv2.cvtColor(frame, cv2.COLOR_BGR2GRAY)\n",
    "    face = face_detector.detectMultiScale(gray, 1.3, 5)\n",
    "    \n",
    "    if len(face) == 0:\n",
    "        return None\n",
    "    \n",
    "    # Crop detected faces\n",
    "    (x, y, w, h) = face[0]\n",
    "    cropped_face = frame[y:y+h, x:x+w]\n",
    "    return cropped_face"
   ]
  },
  {
   "cell_type": "markdown",
   "metadata": {},
   "source": [
    "## Sample Collection"
   ]
  },
  {
   "cell_type": "code",
   "execution_count": null,
   "metadata": {},
   "outputs": [],
   "source": [
    "cap = cv2.VideoCapture(0)\n",
    "count = 0\n",
    "\n",
    "while True:\n",
    "    ret, frame = cap.read()\n",
    "    face = face_extractor(frame)\n",
    "    if face is not None:\n",
    "        count += 1\n",
    "        face = cv2.resize(face, (200, 200))\n",
    "        face = cv2.cvtColor(face, cv2.COLOR_BGR2GRAY)\n",
    "        \n",
    "        # Save file in the specified directory with a unique name\n",
    "        file_path = path + str(count) + '.jpg'\n",
    "        cv2.imwrite(file_path, face)\n",
    "        \n",
    "        cv2.putText(face, str(count), (10, 190), cv2.FONT_HERSHEY_SIMPLEX, 0.5, [255,0,0], 1)\n",
    "        cv2.imshow('samples', face)\n",
    "        \n",
    "    else:\n",
    "        print(\"Face not found\")\n",
    "        pass\n",
    "    \n",
    "    if cv2.waitKey(10) == 13 or count == 500:\n",
    "        break\n",
    "        \n",
    "cv2.destroyAllWindows()\n",
    "print(\"Sample Collection Complete\")\n",
    "cap.release()"
   ]
  },
  {
   "cell_type": "markdown",
   "metadata": {},
   "source": [
    "## Training the Model"
   ]
  },
  {
   "cell_type": "code",
   "execution_count": null,
   "metadata": {},
   "outputs": [],
   "source": [
    "from os import listdir\n",
    "from os.path import isfile, join"
   ]
  },
  {
   "cell_type": "code",
   "execution_count": null,
   "metadata": {},
   "outputs": [],
   "source": [
    "# Fetching the paths of sample data for training\n",
    "data_path = path\n",
    "file_paths = [f for f in listdir(data_path) if isfile(join(data_path, f))]\n",
    "\n",
    "# Lists for training data and labels\n",
    "training_data, labels = [], []\n",
    "\n",
    "# Open images from the file paths and create numpy array for training data\n",
    "for i, f_path in enumerate(file_paths):\n",
    "    image_path = data_path + f_path\n",
    "    images = cv2.imread(image_path, cv2.IMREAD_GRAYSCALE)\n",
    "    training_data.append(np.asarray(images, dtype=np.uint8))\n",
    "    labels.append(i)\n",
    "    \n",
    "# Create numpy array for both training data and labels\n",
    "labels = np.asarray(labels, dtype=np.int32)\n",
    "training_data = np.asarray(training_data)"
   ]
  },
  {
   "cell_type": "code",
   "execution_count": null,
   "metadata": {},
   "outputs": [],
   "source": [
    "# Initialize the face recognizer model\n",
    "my_model = cv2.face_LBPHFaceRecognizer.create()\n",
    "\n",
    "# Training the model\n",
    "my_model.train(training_data, labels)\n",
    "print(\"Model Trained\")"
   ]
  },
  {
   "cell_type": "markdown",
   "metadata": {},
   "source": [
    "## Run Facial Recognition"
   ]
  },
  {
   "cell_type": "code",
   "execution_count": null,
   "metadata": {},
   "outputs": [],
   "source": [
    "def detect_face(frame, size=0.5):\n",
    "    \n",
    "    # Convert frame to grayscale\n",
    "    gray = cv2.cvtColor(frame, cv2.COLOR_BGR2GRAY)\n",
    "    face = face_detector.detectMultiScale(gray, 1.3, 5)\n",
    "    \n",
    "    if len(face) == 0:\n",
    "        return None\n",
    "    \n",
    "    (x, y, w, h) = face[0]\n",
    "    cv2.rectangle(frame, (x, y), (x+w, y+h), [178, 255, 25], 2)\n",
    "    roi = frame[y:y+h, x:x+w]\n",
    "    roi = cv2.resize(roi, (200, 200))\n",
    "    return roi"
   ]
  },
  {
   "cell_type": "code",
   "execution_count": null,
   "metadata": {},
   "outputs": [],
   "source": [
    "cap = cv2.VideoCapture(0)\n",
    "while True:\n",
    "    ret, frame = cap.read()\n",
    "    face = detect_face(frame)\n",
    "    \n",
    "    try:\n",
    "        grayface = cv2.cvtColor(face, cv2.COLOR_BGR2GRAY)\n",
    "        \n",
    "        # Passing face to the model for prediction\n",
    "        result = my_model.predict(grayface)\n",
    "        \n",
    "        if result[1] < 500:\n",
    "            confidence = int(100 * (1 - result[1]/400))\n",
    "            display_str = 'Confidence score : ' + str(confidence) + '%'\n",
    "            \n",
    "        cv2.putText(frame, display_str, (230, 450), cv2.FONT_HERSHEY_SIMPLEX, 0.5, [255,120,150], 1)\n",
    "        \n",
    "        if confidence > 90:\n",
    "            cv2.putText(frame, \"Hey Gaius\", (276, 430), cv2.FONT_HERSHEY_SIMPLEX, 0.5, [178, 255, 25], 1)\n",
    "        else:\n",
    "            cv2.putText(frame, \"Face not recognized\", (240, 430), cv2.FONT_HERSHEY_SIMPLEX, 0.5, [80,19,247], 1)\n",
    "        \n",
    "    except:\n",
    "        cv2.putText(frame, \"Face not found\", (260, 430), cv2.FONT_HERSHEY_SIMPLEX, 0.5, [255,255,255], 1)\n",
    "        cv2.putText(frame, \"Looking for a face\", (250, 450), cv2.FONT_HERSHEY_SIMPLEX, 0.5, [255,255,255], 1)\n",
    "    cv2.imshow('Face Recognition', frame)\n",
    "        \n",
    "    if cv2.waitKey(10) == 13:\n",
    "        break\n",
    "\n",
    "cv2.destroyAllWindows()\n",
    "cap.release()"
   ]
  }
 ],
 "metadata": {
  "kernelspec": {
   "display_name": "Python 3",
   "language": "python",
   "name": "python3"
  },
  "language_info": {
   "codemirror_mode": {
    "name": "ipython",
    "version": 3
   },
   "file_extension": ".py",
   "mimetype": "text/x-python",
   "name": "python",
   "nbconvert_exporter": "python",
   "pygments_lexer": "ipython3",
   "version": "3.8.5"
  }
 },
 "nbformat": 4,
 "nbformat_minor": 4
}
